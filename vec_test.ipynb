{
 "cells": [
  {
   "cell_type": "code",
   "execution_count": 1,
   "id": "7727d983",
   "metadata": {},
   "outputs": [],
   "source": [
    "from ode_funs_vec import ode_funs\n",
    "import numpy as np\n",
    "import ode_funs_vec"
   ]
  },
  {
   "cell_type": "code",
   "execution_count": 2,
   "id": "dbe59db2",
   "metadata": {},
   "outputs": [
    {
     "name": "stdout",
     "output_type": "stream",
     "text": [
      "[[0.00000000e+00 1.47608966e-01 5.15523739e-01]\n",
      " [4.88454124e-05 0.00000000e+00 9.46270002e-01]\n",
      " [4.35561191e-01 9.53820168e-01 0.00000000e+00]]\n"
     ]
    }
   ],
   "source": [
    "N=3\n",
    "J=np.ones((N,N))\n",
    "J=np.random.rand(N,N)\n",
    "np.fill_diagonal(J,0)\n",
    "print(J)\n",
    "eps=np.random.rand(N)\n",
    "U=0,\n",
    "gamma=np.random.rand(N)\n",
    "ode_class=ode_funs(N, eps, J, U, gamma=gamma, Diss=None) "
   ]
  },
  {
   "cell_type": "code",
   "execution_count": 3,
   "id": "d04ec30d",
   "metadata": {},
   "outputs": [
    {
     "name": "stdout",
     "output_type": "stream",
     "text": [
      "{'z': array([[0],\n",
      "       [1],\n",
      "       [2]]), '+': array([[3],\n",
      "       [4],\n",
      "       [5]]), '-': array([[6],\n",
      "       [7],\n",
      "       [8]]), 'zz': array([[ 9, 10, 11],\n",
      "       [12, 13, 14],\n",
      "       [15, 16, 17]]), 'z+': array([[18, 19, 20],\n",
      "       [21, 22, 23],\n",
      "       [24, 25, 26]]), 'z-': array([[27, 28, 29],\n",
      "       [30, 31, 32],\n",
      "       [33, 34, 35]]), '+z': array([[36, 37, 38],\n",
      "       [39, 40, 41],\n",
      "       [42, 43, 44]]), '++': array([[45, 46, 47],\n",
      "       [48, 49, 50],\n",
      "       [51, 52, 53]]), '+-': array([[54, 55, 56],\n",
      "       [57, 58, 59],\n",
      "       [60, 61, 62]]), '-z': array([[63, 64, 65],\n",
      "       [66, 67, 68],\n",
      "       [69, 70, 71]]), '-+': array([[72, 73, 74],\n",
      "       [75, 76, 77],\n",
      "       [78, 79, 80]]), '--': array([[81, 82, 83],\n",
      "       [84, 85, 86],\n",
      "       [87, 88, 89]])}\n",
      "90\n"
     ]
    }
   ],
   "source": [
    "\n",
    "s, ss = ode_class.generate_full_op_list() \n",
    "index=ode_class.flat_index(s, ss, index={})\n",
    "print(index)\n",
    "leng=3*N+9*N**2\n",
    "print(leng)"
   ]
  },
  {
   "cell_type": "code",
   "execution_count": 4,
   "id": "697b1dd2",
   "metadata": {},
   "outputs": [
    {
     "name": "stdout",
     "output_type": "stream",
     "text": [
      "[[0.73252763 0.4583064  0.51506269]\n",
      " [0.17327964 0.54600301 0.35455604]\n",
      " [0.1748964  0.72774187 0.04522011]]\n"
     ]
    }
   ],
   "source": [
    "Y=np.random.rand(leng)\n",
    "print(Y[index['zz']])"
   ]
  },
  {
   "cell_type": "code",
   "execution_count": 5,
   "id": "8185ac28",
   "metadata": {},
   "outputs": [
    {
     "name": "stdout",
     "output_type": "stream",
     "text": [
      "[[8.00535188e-01 8.25405647e-01 1.07338404e-01]\n",
      " [1.73526120e-02 3.74333395e-01 1.39529917e-01]\n",
      " [7.62506441e-02 2.99964570e-05 6.57220883e-01]]\n"
     ]
    }
   ],
   "source": [
    "A=ode_funs_vec.sum_li(J,Y,index,'-+z')\n",
    "print(A)"
   ]
  },
  {
   "cell_type": "code",
   "execution_count": 6,
   "id": "e184e8d4",
   "metadata": {},
   "outputs": [
    {
     "name": "stdout",
     "output_type": "stream",
     "text": [
      "[[8.00535188e-01 8.25405647e-01 1.07338404e-01]\n",
      " [1.73526120e-02 3.74333395e-01 1.39529917e-01]\n",
      " [7.62506441e-02 2.99964570e-05 6.57220883e-01]]\n"
     ]
    }
   ],
   "source": [
    "B=ode_funs_vec.sum_li_loop(J,Y,index,'-+z')\n",
    "print(B)"
   ]
  },
  {
   "cell_type": "code",
   "execution_count": 7,
   "id": "baab3c05",
   "metadata": {},
   "outputs": [
    {
     "name": "stdout",
     "output_type": "stream",
     "text": [
      "[0.00000000e+00 0.00000000e+00 2.77555756e-17]\n",
      "\n",
      "\n"
     ]
    }
   ],
   "source": [
    "for i in range(1):\n",
    "    print(A[i]-B[i]) \n",
    "    print('\\n')"
   ]
  },
  {
   "cell_type": "code",
   "execution_count": 8,
   "id": "70c9fda4",
   "metadata": {},
   "outputs": [
    {
     "name": "stdout",
     "output_type": "stream",
     "text": [
      "[[ 0.00000000e+00  0.00000000e+00  2.77555756e-17]\n",
      " [ 1.38777878e-17 -2.77555756e-16  0.00000000e+00]\n",
      " [-1.38777878e-17 -6.38561198e-17  0.00000000e+00]]\n"
     ]
    }
   ],
   "source": [
    "print(A-B)"
   ]
  },
  {
   "cell_type": "code",
   "execution_count": 9,
   "id": "1c125674",
   "metadata": {},
   "outputs": [
    {
     "name": "stdout",
     "output_type": "stream",
     "text": [
      "[[0.25922997]\n",
      " [0.2892246 ]\n",
      " [0.51029576]]\n"
     ]
    }
   ],
   "source": [
    "C=ode_funs_vec.sum2(J,Y,index,'-+')\n",
    "print(C)"
   ]
  },
  {
   "cell_type": "code",
   "execution_count": 10,
   "id": "63e3f1b6",
   "metadata": {},
   "outputs": [
    {
     "name": "stdout",
     "output_type": "stream",
     "text": [
      "[[0.25922997]\n",
      " [0.2892246 ]\n",
      " [0.51029576]]\n"
     ]
    }
   ],
   "source": [
    "D=ode_funs_vec.sum2_loop(J,Y,index,'-+')\n",
    "print(D)"
   ]
  }
 ],
 "metadata": {
  "kernelspec": {
   "display_name": "Python 3 (Spyder)",
   "language": "python3",
   "name": "python3"
  },
  "language_info": {
   "codemirror_mode": {
    "name": "ipython",
    "version": 3
   },
   "file_extension": ".py",
   "mimetype": "text/x-python",
   "name": "python",
   "nbconvert_exporter": "python",
   "pygments_lexer": "ipython3",
   "version": "3.8.11"
  }
 },
 "nbformat": 4,
 "nbformat_minor": 5
}
